{
 "cells": [
  {
   "cell_type": "code",
   "execution_count": 1,
   "id": "3b425376",
   "metadata": {
    "_cell_guid": "b1076dfc-b9ad-4769-8c92-a6c4dae69d19",
    "_uuid": "8f2839f25d086af736a60e9eeb907d3b93b6e0e5",
    "execution": {
     "iopub.execute_input": "2021-10-15T15:59:37.883787Z",
     "iopub.status.busy": "2021-10-15T15:59:37.883024Z",
     "iopub.status.idle": "2021-10-15T15:59:37.891428Z",
     "shell.execute_reply": "2021-10-15T15:59:37.891862Z",
     "shell.execute_reply.started": "2021-10-15T15:35:14.729202Z"
    },
    "papermill": {
     "duration": 0.118976,
     "end_time": "2021-10-15T15:59:37.892118",
     "exception": false,
     "start_time": "2021-10-15T15:59:37.773142",
     "status": "completed"
    },
    "tags": []
   },
   "outputs": [
    {
     "name": "stdout",
     "output_type": "stream",
     "text": [
      "/kaggle/input/glove6b100dtxt/glove.6B.100d.txt\n",
      "/kaggle/input/nlp-getting-started/sample_submission.csv\n",
      "/kaggle/input/nlp-getting-started/train.csv\n",
      "/kaggle/input/nlp-getting-started/test.csv\n"
     ]
    }
   ],
   "source": [
    "# This Python 3 environment comes with many helpful analytics libraries installed\n",
    "# It is defined by the kaggle/python Docker image: https://github.com/kaggle/docker-python\n",
    "# For example, here's several helpful packages to load\n",
    "\n",
    "import numpy as np # linear algebra\n",
    "import pandas as pd # data processing, CSV file I/O (e.g. pd.read_csv)\n",
    "\n",
    "# Input data files are available in the read-only \"../input/\" directory\n",
    "# For example, running this (by clicking run or pressing Shift+Enter) will list all files under the input directory\n",
    "\n",
    "import os\n",
    "for dirname, _, filenames in os.walk('/kaggle/input'):\n",
    "    for filename in filenames:\n",
    "        print(os.path.join(dirname, filename))\n",
    "\n",
    "# You can write up to 20GB to the current directory (/kaggle/working/) that gets preserved as output when you create a version using \"Save & Run All\" \n",
    "# You can also write temporary files to /kaggle/temp/, but they won't be saved outside of the current session"
   ]
  },
  {
   "cell_type": "code",
   "execution_count": 2,
   "id": "a23c6af3",
   "metadata": {
    "execution": {
     "iopub.execute_input": "2021-10-15T15:59:37.957829Z",
     "iopub.status.busy": "2021-10-15T15:59:37.957138Z",
     "iopub.status.idle": "2021-10-15T15:59:43.551010Z",
     "shell.execute_reply": "2021-10-15T15:59:43.550465Z",
     "shell.execute_reply.started": "2021-10-15T15:35:14.746263Z"
    },
    "papermill": {
     "duration": 5.627821,
     "end_time": "2021-10-15T15:59:43.551141",
     "exception": false,
     "start_time": "2021-10-15T15:59:37.923320",
     "status": "completed"
    },
    "tags": []
   },
   "outputs": [
    {
     "name": "stderr",
     "output_type": "stream",
     "text": [
      "2021-10-15 15:59:39.869565: I tensorflow/stream_executor/platform/default/dso_loader.cc:49] Successfully opened dynamic library libcudart.so.11.0\n"
     ]
    }
   ],
   "source": [
    "import re\n",
    "import pandas as pd\n",
    "import seaborn as sns\n",
    "import matplotlib.pyplot as plt\n",
    "import string\n",
    "import nltk\n",
    "from nltk.corpus import stopwords\n",
    "from collections import defaultdict\n",
    "\n",
    "from sklearn.model_selection import train_test_split\n",
    "\n",
    "import tensorflow\n",
    "from tensorflow.keras.models import Sequential\n",
    "from tensorflow.keras.preprocessing.text import Tokenizer\n",
    "from tensorflow.keras.preprocessing.sequence import pad_sequences\n",
    "from tensorflow.keras.layers import Embedding, LSTM, Dense, Dropout, Bidirectional, Flatten, GlobalMaxPool1D, BatchNormalization\n",
    "from tensorflow.keras.optimizers import Adam\n",
    "from tensorflow.keras.callbacks import EarlyStopping, ReduceLROnPlateau\n",
    "\n",
    "import warnings\n",
    "warnings.filterwarnings(\"ignore\")"
   ]
  },
  {
   "cell_type": "code",
   "execution_count": 3,
   "id": "8e35e8bc",
   "metadata": {
    "execution": {
     "iopub.execute_input": "2021-10-15T15:59:43.611286Z",
     "iopub.status.busy": "2021-10-15T15:59:43.610797Z",
     "iopub.status.idle": "2021-10-15T15:59:43.693050Z",
     "shell.execute_reply": "2021-10-15T15:59:43.693458Z",
     "shell.execute_reply.started": "2021-10-15T15:35:14.759747Z"
    },
    "papermill": {
     "duration": 0.114437,
     "end_time": "2021-10-15T15:59:43.693622",
     "exception": false,
     "start_time": "2021-10-15T15:59:43.579185",
     "status": "completed"
    },
    "tags": []
   },
   "outputs": [
    {
     "data": {
      "text/html": [
       "<div>\n",
       "<style scoped>\n",
       "    .dataframe tbody tr th:only-of-type {\n",
       "        vertical-align: middle;\n",
       "    }\n",
       "\n",
       "    .dataframe tbody tr th {\n",
       "        vertical-align: top;\n",
       "    }\n",
       "\n",
       "    .dataframe thead th {\n",
       "        text-align: right;\n",
       "    }\n",
       "</style>\n",
       "<table border=\"1\" class=\"dataframe\">\n",
       "  <thead>\n",
       "    <tr style=\"text-align: right;\">\n",
       "      <th></th>\n",
       "      <th>id</th>\n",
       "      <th>keyword</th>\n",
       "      <th>location</th>\n",
       "      <th>text</th>\n",
       "      <th>target</th>\n",
       "    </tr>\n",
       "  </thead>\n",
       "  <tbody>\n",
       "    <tr>\n",
       "      <th>0</th>\n",
       "      <td>1</td>\n",
       "      <td>NaN</td>\n",
       "      <td>NaN</td>\n",
       "      <td>Our Deeds are the Reason of this #earthquake M...</td>\n",
       "      <td>1</td>\n",
       "    </tr>\n",
       "    <tr>\n",
       "      <th>1</th>\n",
       "      <td>4</td>\n",
       "      <td>NaN</td>\n",
       "      <td>NaN</td>\n",
       "      <td>Forest fire near La Ronge Sask. Canada</td>\n",
       "      <td>1</td>\n",
       "    </tr>\n",
       "    <tr>\n",
       "      <th>2</th>\n",
       "      <td>5</td>\n",
       "      <td>NaN</td>\n",
       "      <td>NaN</td>\n",
       "      <td>All residents asked to 'shelter in place' are ...</td>\n",
       "      <td>1</td>\n",
       "    </tr>\n",
       "    <tr>\n",
       "      <th>3</th>\n",
       "      <td>6</td>\n",
       "      <td>NaN</td>\n",
       "      <td>NaN</td>\n",
       "      <td>13,000 people receive #wildfires evacuation or...</td>\n",
       "      <td>1</td>\n",
       "    </tr>\n",
       "    <tr>\n",
       "      <th>4</th>\n",
       "      <td>7</td>\n",
       "      <td>NaN</td>\n",
       "      <td>NaN</td>\n",
       "      <td>Just got sent this photo from Ruby #Alaska as ...</td>\n",
       "      <td>1</td>\n",
       "    </tr>\n",
       "  </tbody>\n",
       "</table>\n",
       "</div>"
      ],
      "text/plain": [
       "   id keyword location                                               text  \\\n",
       "0   1     NaN      NaN  Our Deeds are the Reason of this #earthquake M...   \n",
       "1   4     NaN      NaN             Forest fire near La Ronge Sask. Canada   \n",
       "2   5     NaN      NaN  All residents asked to 'shelter in place' are ...   \n",
       "3   6     NaN      NaN  13,000 people receive #wildfires evacuation or...   \n",
       "4   7     NaN      NaN  Just got sent this photo from Ruby #Alaska as ...   \n",
       "\n",
       "   target  \n",
       "0       1  \n",
       "1       1  \n",
       "2       1  \n",
       "3       1  \n",
       "4       1  "
      ]
     },
     "execution_count": 3,
     "metadata": {},
     "output_type": "execute_result"
    }
   ],
   "source": [
    "df_train = pd.read_csv('../input/nlp-getting-started/train.csv')\n",
    "df_test = pd.read_csv('../input/nlp-getting-started/train.csv')\n",
    "df_train.head(5)"
   ]
  },
  {
   "cell_type": "code",
   "execution_count": 4,
   "id": "3112bba3",
   "metadata": {
    "execution": {
     "iopub.execute_input": "2021-10-15T15:59:43.768927Z",
     "iopub.status.busy": "2021-10-15T15:59:43.754288Z",
     "iopub.status.idle": "2021-10-15T15:59:43.772339Z",
     "shell.execute_reply": "2021-10-15T15:59:43.772791Z",
     "shell.execute_reply.started": "2021-10-15T15:35:14.819912Z"
    },
    "papermill": {
     "duration": 0.050519,
     "end_time": "2021-10-15T15:59:43.772933",
     "exception": false,
     "start_time": "2021-10-15T15:59:43.722414",
     "status": "completed"
    },
    "tags": []
   },
   "outputs": [
    {
     "name": "stdout",
     "output_type": "stream",
     "text": [
      "<class 'pandas.core.frame.DataFrame'>\n",
      "RangeIndex: 7613 entries, 0 to 7612\n",
      "Data columns (total 5 columns):\n",
      " #   Column    Non-Null Count  Dtype \n",
      "---  ------    --------------  ----- \n",
      " 0   id        7613 non-null   int64 \n",
      " 1   keyword   7552 non-null   object\n",
      " 2   location  5080 non-null   object\n",
      " 3   text      7613 non-null   object\n",
      " 4   target    7613 non-null   int64 \n",
      "dtypes: int64(2), object(3)\n",
      "memory usage: 297.5+ KB\n"
     ]
    }
   ],
   "source": [
    "#Breif info of the dataset\n",
    "df_train.info()"
   ]
  },
  {
   "cell_type": "markdown",
   "id": "3e5d5590",
   "metadata": {
    "papermill": {
     "duration": 0.028839,
     "end_time": "2021-10-15T15:59:43.830606",
     "exception": false,
     "start_time": "2021-10-15T15:59:43.801767",
     "status": "completed"
    },
    "tags": []
   },
   "source": [
    "# Exploratory Data Analysis"
   ]
  },
  {
   "cell_type": "code",
   "execution_count": 5,
   "id": "1f350acb",
   "metadata": {
    "execution": {
     "iopub.execute_input": "2021-10-15T15:59:43.893441Z",
     "iopub.status.busy": "2021-10-15T15:59:43.892626Z",
     "iopub.status.idle": "2021-10-15T15:59:44.090132Z",
     "shell.execute_reply": "2021-10-15T15:59:44.091505Z",
     "shell.execute_reply.started": "2021-10-15T15:35:14.840692Z"
    },
    "papermill": {
     "duration": 0.231968,
     "end_time": "2021-10-15T15:59:44.091761",
     "exception": false,
     "start_time": "2021-10-15T15:59:43.859793",
     "status": "completed"
    },
    "tags": []
   },
   "outputs": [
    {
     "data": {
      "text/plain": [
       "0    0.57034\n",
       "1    0.42966\n",
       "Name: target, dtype: float64"
      ]
     },
     "execution_count": 5,
     "metadata": {},
     "output_type": "execute_result"
    },
    {
     "data": {
      "image/png": "[encoded data removed]",
      "text/plain": [
       "<Figure size 432x288 with 1 Axes>"
      ]
     },
     "metadata": {
      "needs_background": "light"
     },
     "output_type": "display_data"
    }
   ],
   "source": [
    "#Distribution of 'target'\n",
    "sns.barplot(df_train['target'].value_counts().index, df_train['target'].value_counts())\n",
    "df_train['target'].value_counts(1)"
   ]
  },
  {
   "cell_type": "code",
   "execution_count": 6,
   "id": "16ac1067",
   "metadata": {
    "execution": {
     "iopub.execute_input": "2021-10-15T15:59:44.158748Z",
     "iopub.status.busy": "2021-10-15T15:59:44.157909Z",
     "iopub.status.idle": "2021-10-15T15:59:44.171256Z",
     "shell.execute_reply": "2021-10-15T15:59:44.171690Z",
     "shell.execute_reply.started": "2021-10-15T15:35:15.018336Z"
    },
    "papermill": {
     "duration": 0.048948,
     "end_time": "2021-10-15T15:59:44.171814",
     "exception": false,
     "start_time": "2021-10-15T15:59:44.122866",
     "status": "completed"
    },
    "tags": []
   },
   "outputs": [],
   "source": [
    "#common keywords happen in real-diaster tweet and fake-diaster tweet\n",
    "\n",
    "df_train['target_mean'] = df_train.groupby('keyword')['target'].transform('mean')\n",
    "\n",
    "#the eleventh common keyowrds in real_diaster is 'bombing', with target_mean : 0.931034\n",
    "#append the top 10 keywords happened in real_diaster tweet\n",
    "#same process on keyword_fake\n",
    "\n",
    "keyword_real = []\n",
    "for kw in df_train.query('target_mean > 0.93104').keyword:\n",
    "    if kw not in keyword_real:\n",
    "        keyword_real.append(kw)\n",
    "        \n",
    "keyword_fake = []\n",
    "for kw in df_train.query('target_mean < 0.0625').keyword:\n",
    "    if kw not in keyword_fake:\n",
    "        keyword_fake.append(kw)\n",
    "\n",
    "#output\n",
    "#keyword_real = ['debris','derailment','oil%20spill','outbreak','suicide%20bomber','suicide%20bombing','typhoon','wreckage']\n",
    "#keyword_fake = ['aftershock','blazing',blew%20up','body%20bag','body%20bags','electrocute','panicking','ruin','screaming','traumatised']"
   ]
  },
  {
   "cell_type": "code",
   "execution_count": 7,
   "id": "e52512fc",
   "metadata": {
    "execution": {
     "iopub.execute_input": "2021-10-15T15:59:44.263128Z",
     "iopub.status.busy": "2021-10-15T15:59:44.239582Z",
     "iopub.status.idle": "2021-10-15T15:59:44.313124Z",
     "shell.execute_reply": "2021-10-15T15:59:44.313560Z",
     "shell.execute_reply.started": "2021-10-15T15:35:15.039472Z"
    },
    "papermill": {
     "duration": 0.112871,
     "end_time": "2021-10-15T15:59:44.313734",
     "exception": false,
     "start_time": "2021-10-15T15:59:44.200863",
     "status": "completed"
    },
    "tags": []
   },
   "outputs": [],
   "source": [
    "#number of words in a tweet\n",
    "df_train['word_count'] = df_train['text'].apply(lambda x: len(str(x).split()))\n",
    "\n",
    "#numbers of punctutaion \n",
    "df_train['punctuation_count'] = df_train['text'].apply(lambda x: len([y for y in str(x) if y in string.punctuation]))\n",
    "\n",
    "#characters in tweets\n",
    "df_train['characters_count'] = df_train['text'].apply(lambda x: len(str(x)))"
   ]
  },
  {
   "cell_type": "code",
   "execution_count": 8,
   "id": "2da24ecc",
   "metadata": {
    "execution": {
     "iopub.execute_input": "2021-10-15T15:59:44.391973Z",
     "iopub.status.busy": "2021-10-15T15:59:44.391184Z",
     "iopub.status.idle": "2021-10-15T15:59:44.666328Z",
     "shell.execute_reply": "2021-10-15T15:59:44.666740Z",
     "shell.execute_reply.started": "2021-10-15T15:35:15.129605Z"
    },
    "papermill": {
     "duration": 0.324195,
     "end_time": "2021-10-15T15:59:44.666884",
     "exception": false,
     "start_time": "2021-10-15T15:59:44.342689",
     "status": "completed"
    },
    "tags": []
   },
   "outputs": [
    {
     "data": {
      "text/plain": [
       "<AxesSubplot:xlabel='word_count', ylabel='Density'>"
      ]
     },
     "execution_count": 8,
     "metadata": {},
     "output_type": "execute_result"
    },
    {
     "data": {
      "image/png": "[encoded data removed]",
      "text/plain": [
       "<Figure size 360x360 with 1 Axes>"
      ]
     },
     "metadata": {
      "needs_background": "light"
     },
     "output_type": "display_data"
    }
   ],
   "source": [
    "fig, axes = plt.subplots(figsize=(5,5))\n",
    "sns.kdeplot(data=df_train, x='word_count', hue='target', fill=True, common_norm=False, palette=\"crest\",alpha=.5,)"
   ]
  },
  {
   "cell_type": "code",
   "execution_count": 9,
   "id": "422294f5",
   "metadata": {
    "execution": {
     "iopub.execute_input": "2021-10-15T15:59:44.736607Z",
     "iopub.status.busy": "2021-10-15T15:59:44.735725Z",
     "iopub.status.idle": "2021-10-15T15:59:44.995393Z",
     "shell.execute_reply": "2021-10-15T15:59:44.996003Z",
     "shell.execute_reply.started": "2021-10-15T15:35:15.422499Z"
    },
    "papermill": {
     "duration": 0.29698,
     "end_time": "2021-10-15T15:59:44.996145",
     "exception": false,
     "start_time": "2021-10-15T15:59:44.699165",
     "status": "completed"
    },
    "tags": []
   },
   "outputs": [
    {
     "data": {
      "text/plain": [
       "<AxesSubplot:xlabel='punctuation_count', ylabel='Density'>"
      ]
     },
     "execution_count": 9,
     "metadata": {},
     "output_type": "execute_result"
    },
    {
     "data": {
      "image/png": "[encoded data removed]",
      "text/plain": [
       "<Figure size 432x288 with 1 Axes>"
      ]
     },
     "metadata": {
      "needs_background": "light"
     },
     "output_type": "display_data"
    }
   ],
   "source": [
    "sns.kdeplot(data=df_train, x='punctuation_count', hue='target', fill=True, common_norm=False, palette=\"crest\",alpha=.5,)"
   ]
  },
  {
   "cell_type": "code",
   "execution_count": 10,
   "id": "9dd4be07",
   "metadata": {
    "execution": {
     "iopub.execute_input": "2021-10-15T15:59:45.066784Z",
     "iopub.status.busy": "2021-10-15T15:59:45.065971Z",
     "iopub.status.idle": "2021-10-15T15:59:45.330764Z",
     "shell.execute_reply": "2021-10-15T15:59:45.331414Z",
     "shell.execute_reply.started": "2021-10-15T15:35:15.702229Z"
    },
    "papermill": {
     "duration": 0.303595,
     "end_time": "2021-10-15T15:59:45.331576",
     "exception": false,
     "start_time": "2021-10-15T15:59:45.027981",
     "status": "completed"
    },
    "tags": []
   },
   "outputs": [
    {
     "data": {
      "text/plain": [
       "<AxesSubplot:xlabel='characters_count', ylabel='Density'>"
      ]
     },
     "execution_count": 10,
     "metadata": {},
     "output_type": "execute_result"
    },
    {
     "data": {
      "image/png": "[encoded data removed]",
      "text/plain": [
       "<Figure size 432x288 with 1 Axes>"
      ]
     },
     "metadata": {
      "needs_background": "light"
     },
     "output_type": "display_data"
    }
   ],
   "source": [
    "sns.kdeplot(data=df_train, x='characters_count', hue='target', fill=True, common_norm=False, palette=\"crest\",alpha=.5,)"
   ]
  },
  {
   "cell_type": "code",
   "execution_count": 11,
   "id": "5ed11414",
   "metadata": {
    "execution": {
     "iopub.execute_input": "2021-10-15T15:59:45.403954Z",
     "iopub.status.busy": "2021-10-15T15:59:45.403184Z",
     "iopub.status.idle": "2021-10-15T15:59:45.460818Z",
     "shell.execute_reply": "2021-10-15T15:59:45.460361Z",
     "shell.execute_reply.started": "2021-10-15T15:35:15.980540Z"
    },
    "papermill": {
     "duration": 0.096698,
     "end_time": "2021-10-15T15:59:45.460933",
     "exception": false,
     "start_time": "2021-10-15T15:59:45.364235",
     "status": "completed"
    },
    "tags": []
   },
   "outputs": [],
   "source": [
    "#analyze common stopwords \n",
    "#using the stopwords library from NLTK\n",
    "corpus_fake=[]\n",
    "for x in df_train[df_train['target']==0]['text'].str.split():\n",
    "    for i in x:\n",
    "        corpus_fake.append(i)\n",
    "        \n",
    "corpus_real=[]\n",
    "for x in df_train[df_train['target']==1]['text'].str.split():\n",
    "    for i in x:\n",
    "        corpus_real.append(i)\n",
    "\n",
    "stops = set(stopwords.words('english'))\n",
    "\n",
    "dic_fake = defaultdict(int)\n",
    "dic_real = defaultdict(int)\n",
    "\n",
    "for word in corpus_fake:\n",
    "    if word in stops:\n",
    "        dic_fake[word]+=1\n",
    "        \n",
    "for word in corpus_real:\n",
    "    if word in stops:\n",
    "        dic_real[word]+=1"
   ]
  },
  {
   "cell_type": "code",
   "execution_count": 12,
   "id": "3a8cf204",
   "metadata": {
    "execution": {
     "iopub.execute_input": "2021-10-15T15:59:45.531539Z",
     "iopub.status.busy": "2021-10-15T15:59:45.530858Z",
     "iopub.status.idle": "2021-10-15T15:59:45.533776Z",
     "shell.execute_reply": "2021-10-15T15:59:45.534177Z",
     "shell.execute_reply.started": "2021-10-15T15:35:16.045241Z"
    },
    "papermill": {
     "duration": 0.040733,
     "end_time": "2021-10-15T15:59:45.534297",
     "exception": false,
     "start_time": "2021-10-15T15:59:45.493564",
     "status": "completed"
    },
    "tags": []
   },
   "outputs": [
    {
     "name": "stdout",
     "output_type": "stream",
     "text": [
      "[('the', 1524), ('a', 1115), ('to', 1099), ('and', 840), ('of', 834), ('in', 720), ('you', 529), ('is', 512), ('for', 452), ('my', 442)]\n",
      "[('the', 1051), ('in', 1037), ('of', 888), ('a', 730), ('to', 706), ('and', 462), ('on', 386), ('for', 368), ('is', 302), ('at', 273)]\n"
     ]
    }
   ],
   "source": [
    "#The most common stopwords in real and fake diaster tweet\n",
    "print(sorted(dic_fake.items(),key=lambda x:x[1], reverse=True)[:10])\n",
    "print(sorted(dic_real.items(),key=lambda x:x[1], reverse=True)[:10])"
   ]
  },
  {
   "cell_type": "code",
   "execution_count": 13,
   "id": "760f9add",
   "metadata": {
    "execution": {
     "iopub.execute_input": "2021-10-15T15:59:45.623187Z",
     "iopub.status.busy": "2021-10-15T15:59:45.622355Z",
     "iopub.status.idle": "2021-10-15T15:59:46.020696Z",
     "shell.execute_reply": "2021-10-15T15:59:46.020266Z",
     "shell.execute_reply.started": "2021-10-15T15:35:16.053957Z"
    },
    "papermill": {
     "duration": 0.453567,
     "end_time": "2021-10-15T15:59:46.020816",
     "exception": false,
     "start_time": "2021-10-15T15:59:45.567249",
     "status": "completed"
    },
    "tags": []
   },
   "outputs": [
    {
     "data": {
      "image/png": "[encoded data removed]",
      "text/plain": [
       "<Figure size 648x432 with 1 Axes>"
      ]
     },
     "metadata": {
      "needs_background": "light"
     },
     "output_type": "display_data"
    },
    {
     "data": {
      "image/png": "[encoded data removed]",
      "text/plain": [
       "<Figure size 648x432 with 1 Axes>"
      ]
     },
     "metadata": {
      "needs_background": "light"
     },
     "output_type": "display_data"
    }
   ],
   "source": [
    "#unpacking the dict using operator *\n",
    "temp1 = sorted(dic_fake.items(),key=lambda x:x[1], reverse=True)[:10]\n",
    "temp2 = sorted(dic_real.items(),key=lambda x:x[1], reverse=True)[:10]\n",
    "\n",
    "x1,y1=zip(*temp1)\n",
    "x2,y2=zip(*temp2)\n",
    "\n",
    "plt.figure(figsize=(9,6))\n",
    " \n",
    "# creating the bar plot\n",
    "plt.bar(x1, y1, color ='blue',\n",
    "        width = 0.4)\n",
    " \n",
    "plt.xlabel(\"Stopwords\")\n",
    "plt.ylabel(\"Word counts\")\n",
    "plt.title(\"Common stopword in fake-diiaster tweet\")\n",
    "plt.show()\n",
    "\n",
    "plt.figure(figsize=(9,6))\n",
    "\n",
    "plt.bar(x2, y2, color ='palegreen',\n",
    "        width = 0.4)\n",
    "\n",
    "plt.xlabel(\"Stopwords\")\n",
    "plt.ylabel(\"Word counts\")\n",
    "plt.title(\"Common stopword in real-diiaster tweet\")\n",
    "plt.show()"
   ]
  },
  {
   "cell_type": "code",
   "execution_count": 14,
   "id": "cea9fdf5",
   "metadata": {
    "execution": {
     "iopub.execute_input": "2021-10-15T15:59:46.126402Z",
     "iopub.status.busy": "2021-10-15T15:59:46.116723Z",
     "iopub.status.idle": "2021-10-15T15:59:46.532655Z",
     "shell.execute_reply": "2021-10-15T15:59:46.532228Z",
     "shell.execute_reply.started": "2021-10-15T15:35:16.496923Z"
    },
    "papermill": {
     "duration": 0.477726,
     "end_time": "2021-10-15T15:59:46.532774",
     "exception": false,
     "start_time": "2021-10-15T15:59:46.055048",
     "status": "completed"
    },
    "tags": []
   },
   "outputs": [
    {
     "data": {
      "image/png": "[encoded data removed]",
      "text/plain": [
       "<Figure size 648x432 with 1 Axes>"
      ]
     },
     "metadata": {
      "needs_background": "light"
     },
     "output_type": "display_data"
    },
    {
     "data": {
      "image/png": "[encoded data removed]",
      "text/plain": [
       "<Figure size 648x432 with 1 Axes>"
      ]
     },
     "metadata": {
      "needs_background": "light"
     },
     "output_type": "display_data"
    }
   ],
   "source": [
    "#analyze common hastags\n",
    "from collections import Counter\n",
    "\n",
    "hastags_real = [hastag for hastag in corpus_real if '#' in hastag]\n",
    "hastags_fake = [hastag for hastag in corpus_fake if '#' in hastag]\n",
    "\n",
    "temp1 = sorted(Counter(hastags_fake).items(),key=lambda x:x[1], reverse=True)[:10]\n",
    "temp2 = sorted(Counter(hastags_real).items(),key=lambda x:x[1], reverse=True)[:10]\n",
    "\n",
    "x1,y1=zip(*temp1)\n",
    "x2,y2=zip(*temp2)\n",
    "\n",
    "plt.figure(figsize=(9,6))\n",
    " \n",
    "# creating the bar plot\n",
    "plt.bar(x1, y1, color ='blue',\n",
    "        width = 0.4)\n",
    " \n",
    "plt.xlabel(\"Hastags\")\n",
    "plt.ylabel(\"Hastags counts\")\n",
    "plt.title(\"Common hastags in fake-diiaster tweet\")\n",
    "plt.show()\n",
    "\n",
    "plt.figure(figsize=(9,6))\n",
    "\n",
    "plt.bar(x2, y2, color ='orange',\n",
    "        width = 0.4)\n",
    "\n",
    "plt.xlabel(\"Hastags\")\n",
    "plt.ylabel(\"Hastags counts\")\n",
    "plt.title(\"Common hastags in real-diaster tweet\")\n",
    "plt.show()"
   ]
  },
  {
   "cell_type": "code",
   "execution_count": 15,
   "id": "83861535",
   "metadata": {
    "execution": {
     "iopub.execute_input": "2021-10-15T15:59:46.607935Z",
     "iopub.status.busy": "2021-10-15T15:59:46.607251Z",
     "iopub.status.idle": "2021-10-15T15:59:46.609761Z",
     "shell.execute_reply": "2021-10-15T15:59:46.609326Z",
     "shell.execute_reply.started": "2021-10-15T15:35:16.954985Z"
    },
    "papermill": {
     "duration": 0.041102,
     "end_time": "2021-10-15T15:59:46.609861",
     "exception": false,
     "start_time": "2021-10-15T15:59:46.568759",
     "status": "completed"
    },
    "tags": []
   },
   "outputs": [],
   "source": [
    "#some of the hastages were not able capture when preparaing the dataset"
   ]
  },
  {
   "cell_type": "markdown",
   "id": "b95117f4",
   "metadata": {
    "papermill": {
     "duration": 0.036009,
     "end_time": "2021-10-15T15:59:46.681124",
     "exception": false,
     "start_time": "2021-10-15T15:59:46.645115",
     "status": "completed"
    },
    "tags": []
   },
   "source": [
    "# Data Cleaning"
   ]
  },
  {
   "cell_type": "code",
   "execution_count": 16,
   "id": "c1347bfe",
   "metadata": {
    "execution": {
     "iopub.execute_input": "2021-10-15T15:59:46.757965Z",
     "iopub.status.busy": "2021-10-15T15:59:46.757171Z",
     "iopub.status.idle": "2021-10-15T15:59:46.759673Z",
     "shell.execute_reply": "2021-10-15T15:59:46.759233Z",
     "shell.execute_reply.started": "2021-10-15T15:35:16.961080Z"
    },
    "papermill": {
     "duration": 0.043109,
     "end_time": "2021-10-15T15:59:46.759783",
     "exception": false,
     "start_time": "2021-10-15T15:59:46.716674",
     "status": "completed"
    },
    "tags": []
   },
   "outputs": [],
   "source": [
    "#Make text lowercase, remove text in square brackets,remove URLs,remove punctuation and remove words containing numbers, remove stopwords.\n",
    "#Perform stemming using SnowballStemmer"
   ]
  },
  {
   "cell_type": "code",
   "execution_count": 17,
   "id": "0f9ee7cb",
   "metadata": {
    "execution": {
     "iopub.execute_input": "2021-10-15T15:59:46.840377Z",
     "iopub.status.busy": "2021-10-15T15:59:46.838932Z",
     "iopub.status.idle": "2021-10-15T15:59:46.841072Z",
     "shell.execute_reply": "2021-10-15T15:59:46.841458Z",
     "shell.execute_reply.started": "2021-10-15T15:35:16.978987Z"
    },
    "papermill": {
     "duration": 0.044899,
     "end_time": "2021-10-15T15:59:46.841590",
     "exception": false,
     "start_time": "2021-10-15T15:59:46.796691",
     "status": "completed"
    },
    "tags": []
   },
   "outputs": [],
   "source": [
    "# Special thanks to https://www.kaggle.com/tanulsingh077 for this function\n",
    "def clean_text(text):\n",
    "    text = str(text).lower()\n",
    "    text = re.sub('\\[.*?\\]', '', text)\n",
    "    text = re.sub('https?://\\S+|www\\.\\S+', '', text)\n",
    "    text = re.sub('<.*?>+', '', text)\n",
    "    text = re.sub('[%s]' % re.escape(string.punctuation), '', text)\n",
    "    text = re.sub('\\n', '', text)\n",
    "    text = re.sub('\\w*\\d\\w*', '', text)\n",
    "    return text"
   ]
  },
  {
   "cell_type": "code",
   "execution_count": 18,
   "id": "d698d9fc",
   "metadata": {
    "execution": {
     "iopub.execute_input": "2021-10-15T15:59:46.916590Z",
     "iopub.status.busy": "2021-10-15T15:59:46.915863Z",
     "iopub.status.idle": "2021-10-15T15:59:46.918331Z",
     "shell.execute_reply": "2021-10-15T15:59:46.917914Z",
     "shell.execute_reply.started": "2021-10-15T15:35:16.990355Z"
    },
    "papermill": {
     "duration": 0.04171,
     "end_time": "2021-10-15T15:59:46.918428",
     "exception": false,
     "start_time": "2021-10-15T15:59:46.876718",
     "status": "completed"
    },
    "tags": []
   },
   "outputs": [],
   "source": [
    "#remove stopwords using the list of stopwords defined eariler in this notebook\n",
    "\n",
    "def remove_stopwords(text):\n",
    "    text = ' '.join(word for word in text.split(' ') if word not in stops)\n",
    "    return text"
   ]
  },
  {
   "cell_type": "code",
   "execution_count": 19,
   "id": "4502faae",
   "metadata": {
    "execution": {
     "iopub.execute_input": "2021-10-15T15:59:46.993501Z",
     "iopub.status.busy": "2021-10-15T15:59:46.992864Z",
     "iopub.status.idle": "2021-10-15T15:59:46.995465Z",
     "shell.execute_reply": "2021-10-15T15:59:46.995050Z",
     "shell.execute_reply.started": "2021-10-15T15:35:17.001816Z"
    },
    "papermill": {
     "duration": 0.040761,
     "end_time": "2021-10-15T15:59:46.995580",
     "exception": false,
     "start_time": "2021-10-15T15:59:46.954819",
     "status": "completed"
    },
    "tags": []
   },
   "outputs": [],
   "source": [
    "#stemmer = nltk.SnowballStemmer(\"english\")\n",
    "#\n",
    "#def stemm_text(text):\n",
    "#    text = ' '.join(stemmer.stem(word) for word in text.split(' '))\n",
    "#    return text"
   ]
  },
  {
   "cell_type": "code",
   "execution_count": 20,
   "id": "b9dad53f",
   "metadata": {
    "execution": {
     "iopub.execute_input": "2021-10-15T15:59:47.069856Z",
     "iopub.status.busy": "2021-10-15T15:59:47.069325Z",
     "iopub.status.idle": "2021-10-15T15:59:47.072327Z",
     "shell.execute_reply": "2021-10-15T15:59:47.073111Z",
     "shell.execute_reply.started": "2021-10-15T15:44:09.094511Z"
    },
    "papermill": {
     "duration": 0.042421,
     "end_time": "2021-10-15T15:59:47.073227",
     "exception": false,
     "start_time": "2021-10-15T15:59:47.030806",
     "status": "completed"
    },
    "tags": []
   },
   "outputs": [],
   "source": [
    "#Putting the functions together\n",
    "def preprocess_data(text):\n",
    "    text = clean_text(text)\n",
    "    text = ' '.join(word for word in text.split(' ') if word not in stops)\n",
    "    #text = ' '.join(stemmer.stem(word) for word in text.split(' '))\n",
    "    return text"
   ]
  },
  {
   "cell_type": "code",
   "execution_count": 21,
   "id": "14c03954",
   "metadata": {
    "execution": {
     "iopub.execute_input": "2021-10-15T15:59:47.172825Z",
     "iopub.status.busy": "2021-10-15T15:59:47.162175Z",
     "iopub.status.idle": "2021-10-15T15:59:47.415061Z",
     "shell.execute_reply": "2021-10-15T15:59:47.415439Z",
     "shell.execute_reply.started": "2021-10-15T15:44:11.791826Z"
    },
    "papermill": {
     "duration": 0.30705,
     "end_time": "2021-10-15T15:59:47.415597",
     "exception": false,
     "start_time": "2021-10-15T15:59:47.108547",
     "status": "completed"
    },
    "tags": []
   },
   "outputs": [],
   "source": [
    "df_train['text_clean'] = df_train['text'].apply(preprocess_data)"
   ]
  },
  {
   "cell_type": "code",
   "execution_count": 22,
   "id": "54d424c5",
   "metadata": {
    "execution": {
     "iopub.execute_input": "2021-10-15T15:59:47.493225Z",
     "iopub.status.busy": "2021-10-15T15:59:47.492375Z",
     "iopub.status.idle": "2021-10-15T15:59:47.502336Z",
     "shell.execute_reply": "2021-10-15T15:59:47.502760Z",
     "shell.execute_reply.started": "2021-10-15T15:44:15.074751Z"
    },
    "papermill": {
     "duration": 0.050842,
     "end_time": "2021-10-15T15:59:47.502881",
     "exception": false,
     "start_time": "2021-10-15T15:59:47.452039",
     "status": "completed"
    },
    "tags": []
   },
   "outputs": [
    {
     "data": {
      "text/html": [
       "<div>\n",
       "<style scoped>\n",
       "    .dataframe tbody tr th:only-of-type {\n",
       "        vertical-align: middle;\n",
       "    }\n",
       "\n",
       "    .dataframe tbody tr th {\n",
       "        vertical-align: top;\n",
       "    }\n",
       "\n",
       "    .dataframe thead th {\n",
       "        text-align: right;\n",
       "    }\n",
       "</style>\n",
       "<table border=\"1\" class=\"dataframe\">\n",
       "  <thead>\n",
       "    <tr style=\"text-align: right;\">\n",
       "      <th></th>\n",
       "      <th>id</th>\n",
       "      <th>keyword</th>\n",
       "      <th>location</th>\n",
       "      <th>text</th>\n",
       "      <th>target</th>\n",
       "      <th>target_mean</th>\n",
       "      <th>word_count</th>\n",
       "      <th>punctuation_count</th>\n",
       "      <th>characters_count</th>\n",
       "      <th>text_clean</th>\n",
       "    </tr>\n",
       "  </thead>\n",
       "  <tbody>\n",
       "    <tr>\n",
       "      <th>0</th>\n",
       "      <td>1</td>\n",
       "      <td>NaN</td>\n",
       "      <td>NaN</td>\n",
       "      <td>Our Deeds are the Reason of this #earthquake M...</td>\n",
       "      <td>1</td>\n",
       "      <td>NaN</td>\n",
       "      <td>13</td>\n",
       "      <td>1</td>\n",
       "      <td>69</td>\n",
       "      <td>deeds reason earthquake may allah forgive us</td>\n",
       "    </tr>\n",
       "    <tr>\n",
       "      <th>1</th>\n",
       "      <td>4</td>\n",
       "      <td>NaN</td>\n",
       "      <td>NaN</td>\n",
       "      <td>Forest fire near La Ronge Sask. Canada</td>\n",
       "      <td>1</td>\n",
       "      <td>NaN</td>\n",
       "      <td>7</td>\n",
       "      <td>1</td>\n",
       "      <td>38</td>\n",
       "      <td>forest fire near la ronge sask canada</td>\n",
       "    </tr>\n",
       "    <tr>\n",
       "      <th>2</th>\n",
       "      <td>5</td>\n",
       "      <td>NaN</td>\n",
       "      <td>NaN</td>\n",
       "      <td>All residents asked to 'shelter in place' are ...</td>\n",
       "      <td>1</td>\n",
       "      <td>NaN</td>\n",
       "      <td>22</td>\n",
       "      <td>3</td>\n",
       "      <td>133</td>\n",
       "      <td>residents asked shelter place notified officer...</td>\n",
       "    </tr>\n",
       "    <tr>\n",
       "      <th>3</th>\n",
       "      <td>6</td>\n",
       "      <td>NaN</td>\n",
       "      <td>NaN</td>\n",
       "      <td>13,000 people receive #wildfires evacuation or...</td>\n",
       "      <td>1</td>\n",
       "      <td>NaN</td>\n",
       "      <td>8</td>\n",
       "      <td>2</td>\n",
       "      <td>65</td>\n",
       "      <td>people receive wildfires evacuation orders ca...</td>\n",
       "    </tr>\n",
       "    <tr>\n",
       "      <th>4</th>\n",
       "      <td>7</td>\n",
       "      <td>NaN</td>\n",
       "      <td>NaN</td>\n",
       "      <td>Just got sent this photo from Ruby #Alaska as ...</td>\n",
       "      <td>1</td>\n",
       "      <td>NaN</td>\n",
       "      <td>16</td>\n",
       "      <td>2</td>\n",
       "      <td>88</td>\n",
       "      <td>got sent photo ruby alaska smoke wildfires pou...</td>\n",
       "    </tr>\n",
       "  </tbody>\n",
       "</table>\n",
       "</div>"
      ],
      "text/plain": [
       "   id keyword location                                               text  \\\n",
       "0   1     NaN      NaN  Our Deeds are the Reason of this #earthquake M...   \n",
       "1   4     NaN      NaN             Forest fire near La Ronge Sask. Canada   \n",
       "2   5     NaN      NaN  All residents asked to 'shelter in place' are ...   \n",
       "3   6     NaN      NaN  13,000 people receive #wildfires evacuation or...   \n",
       "4   7     NaN      NaN  Just got sent this photo from Ruby #Alaska as ...   \n",
       "\n",
       "   target  target_mean  word_count  punctuation_count  characters_count  \\\n",
       "0       1          NaN          13                  1                69   \n",
       "1       1          NaN           7                  1                38   \n",
       "2       1          NaN          22                  3               133   \n",
       "3       1          NaN           8                  2                65   \n",
       "4       1          NaN          16                  2                88   \n",
       "\n",
       "                                          text_clean  \n",
       "0       deeds reason earthquake may allah forgive us  \n",
       "1              forest fire near la ronge sask canada  \n",
       "2  residents asked shelter place notified officer...  \n",
       "3   people receive wildfires evacuation orders ca...  \n",
       "4  got sent photo ruby alaska smoke wildfires pou...  "
      ]
     },
     "execution_count": 22,
     "metadata": {},
     "output_type": "execute_result"
    }
   ],
   "source": [
    "df_train.head(5)"
   ]
  },
  {
   "cell_type": "markdown",
   "id": "d0fe7402",
   "metadata": {
    "papermill": {
     "duration": 0.035514,
     "end_time": "2021-10-15T15:59:47.574433",
     "exception": false,
     "start_time": "2021-10-15T15:59:47.538919",
     "status": "completed"
    },
    "tags": []
   },
   "source": [
    "# Vectorization"
   ]
  },
  {
   "cell_type": "code",
   "execution_count": 23,
   "id": "6667cb15",
   "metadata": {
    "execution": {
     "iopub.execute_input": "2021-10-15T15:59:47.648812Z",
     "iopub.status.busy": "2021-10-15T15:59:47.648037Z",
     "iopub.status.idle": "2021-10-15T15:59:47.779205Z",
     "shell.execute_reply": "2021-10-15T15:59:47.779650Z",
     "shell.execute_reply.started": "2021-10-15T15:44:20.644784Z"
    },
    "papermill": {
     "duration": 0.169615,
     "end_time": "2021-10-15T15:59:47.779786",
     "exception": false,
     "start_time": "2021-10-15T15:59:47.610171",
     "status": "completed"
    },
    "tags": []
   },
   "outputs": [
    {
     "data": {
      "text/plain": [
       "16702"
      ]
     },
     "execution_count": 23,
     "metadata": {},
     "output_type": "execute_result"
    }
   ],
   "source": [
    "texts = df_train['text_clean']\n",
    "targets = df_train['target']\n",
    "\n",
    "tokenizer = Tokenizer(oov_token='<OOV>')\n",
    "tokenizer.fit_on_texts(texts)\n",
    "\n",
    "vocab_length = len(tokenizer.word_index) + 1\n",
    "vocab_length"
   ]
  },
  {
   "cell_type": "code",
   "execution_count": 24,
   "id": "ec250882",
   "metadata": {
    "execution": {
     "iopub.execute_input": "2021-10-15T15:59:47.865611Z",
     "iopub.status.busy": "2021-10-15T15:59:47.861284Z",
     "iopub.status.idle": "2021-10-15T15:59:48.004621Z",
     "shell.execute_reply": "2021-10-15T15:59:48.004207Z",
     "shell.execute_reply.started": "2021-10-15T15:44:23.100513Z"
    },
    "papermill": {
     "duration": 0.18802,
     "end_time": "2021-10-15T15:59:48.004730",
     "exception": false,
     "start_time": "2021-10-15T15:59:47.816710",
     "status": "completed"
    },
    "tags": []
   },
   "outputs": [
    {
     "data": {
      "text/plain": [
       "array([[4166,  724,  143, ...,    0,    0,    0],\n",
       "       [  95,    5,  125, ...,    0,    0,    0],\n",
       "       [1514, 1392, 1882, ...,    0,    0,    0],\n",
       "       ...,\n",
       "       [ 460, 1381,    0, ...,    0,    0,    0],\n",
       "       [  17,  953, 2895, ...,    0,    0,    0],\n",
       "       [ 112,  107,  411, ...,    0,    0,    0]], dtype=int32)"
      ]
     },
     "execution_count": 24,
     "metadata": {},
     "output_type": "execute_result"
    }
   ],
   "source": [
    "sequences = tokenizer.texts_to_sequences(texts)\n",
    "padded = pad_sequences(sequences, padding='post')\n",
    "padded"
   ]
  },
  {
   "cell_type": "code",
   "execution_count": null,
   "id": "93d4f6bd",
   "metadata": {
    "execution": {
     "iopub.execute_input": "2021-10-15T15:44:25.570963Z",
     "iopub.status.busy": "2021-10-15T15:44:25.570693Z",
     "iopub.status.idle": "2021-10-15T15:44:41.753702Z",
     "shell.execute_reply": "2021-10-15T15:44:41.752664Z",
     "shell.execute_reply.started": "2021-10-15T15:44:25.570935Z"
    },
    "papermill": {
     "duration": null,
     "end_time": null,
     "exception": false,
     "start_time": "2021-10-15T15:59:48.041167",
     "status": "running"
    },
    "tags": []
   },
   "outputs": [],
   "source": [
    "#put the word and its corresponding vectors into a dict\n",
    "embeddings_dictionary = dict()\n",
    "embedding_dim = 100\n",
    "\n",
    "# Load GloVe 100D embeddings\n",
    "with open('/kaggle/input/glove6b100dtxt/glove.6B.100d.txt') as fp:\n",
    "    for line in fp.readlines():\n",
    "        records = line.split()\n",
    "        word = records[0]\n",
    "        vector_dimensions = np.asarray(records[1:], dtype='float32')\n",
    "        embeddings_dictionary [word] = vector_dimensions\n",
    "\n",
    "# embeddings_dictionary"
   ]
  },
  {
   "cell_type": "code",
   "execution_count": null,
   "id": "4c1cb178",
   "metadata": {
    "execution": {
     "iopub.execute_input": "2021-10-15T15:44:46.213060Z",
     "iopub.status.busy": "2021-10-15T15:44:46.212577Z",
     "iopub.status.idle": "2021-10-15T15:44:46.265851Z",
     "shell.execute_reply": "2021-10-15T15:44:46.265208Z",
     "shell.execute_reply.started": "2021-10-15T15:44:46.213016Z"
    },
    "papermill": {
     "duration": null,
     "end_time": null,
     "exception": null,
     "start_time": null,
     "status": "pending"
    },
    "tags": []
   },
   "outputs": [],
   "source": [
    "embedding_matrix = np.zeros((vocab_length, embedding_dim))\n",
    "\n",
    "for word, index in tokenizer.word_index.items():\n",
    "    embedding_vector = embeddings_dictionary.get(word)\n",
    "    if embedding_vector is not None:\n",
    "        embedding_matrix[index] = embedding_vector\n",
    "        \n",
    "#embedding_matrix"
   ]
  },
  {
   "cell_type": "markdown",
   "id": "e5d29386",
   "metadata": {
    "papermill": {
     "duration": null,
     "end_time": null,
     "exception": null,
     "start_time": null,
     "status": "pending"
    },
    "tags": []
   },
   "source": [
    "# Baseline Model"
   ]
  },
  {
   "cell_type": "code",
   "execution_count": null,
   "id": "03de4c64",
   "metadata": {
    "execution": {
     "iopub.execute_input": "2021-10-15T15:44:49.448543Z",
     "iopub.status.busy": "2021-10-15T15:44:49.448077Z",
     "iopub.status.idle": "2021-10-15T15:44:49.778522Z",
     "shell.execute_reply": "2021-10-15T15:44:49.777764Z",
     "shell.execute_reply.started": "2021-10-15T15:44:49.448509Z"
    },
    "papermill": {
     "duration": null,
     "end_time": null,
     "exception": null,
     "start_time": null,
     "status": "pending"
    },
    "tags": []
   },
   "outputs": [],
   "source": [
    "#Building a baseline model and compare the performance of futhure models with this\n",
    "\n",
    "word_counts = []\n",
    "for sentence in texts:\n",
    "    word_counts.append(len(sentence))\n",
    "\n",
    "length_long_sentence = max(word_counts)\n",
    "\n",
    "model = Sequential()\n",
    "model.add(Embedding(input_dim=embedding_matrix.shape[0], output_dim=embedding_matrix.shape[1], weights = [embedding_matrix], input_length=128))  \n",
    "model.add(Bidirectional(LSTM(128, recurrent_dropout=0.2)))\n",
    "model.add(Dense(1, activation = 'sigmoid'))\n",
    "model.compile(optimizer='adam', loss='binary_crossentropy', metrics=['accuracy'])"
   ]
  },
  {
   "cell_type": "code",
   "execution_count": null,
   "id": "59f16a54",
   "metadata": {
    "execution": {
     "iopub.execute_input": "2021-10-15T15:44:56.118183Z",
     "iopub.status.busy": "2021-10-15T15:44:56.117920Z",
     "iopub.status.idle": "2021-10-15T15:47:39.476158Z",
     "shell.execute_reply": "2021-10-15T15:47:39.475469Z",
     "shell.execute_reply.started": "2021-10-15T15:44:56.118155Z"
    },
    "papermill": {
     "duration": null,
     "end_time": null,
     "exception": null,
     "start_time": null,
     "status": "pending"
    },
    "tags": []
   },
   "outputs": [],
   "source": [
    "X_train, X_test, y_train, y_test = train_test_split(padded, targets, test_size=0.25, random_state = 42)\n",
    "history = model.fit(X_train, y_train, epochs = 5,batch_size = 32, validation_data = (X_test, y_test),verbose = 1)"
   ]
  },
  {
   "cell_type": "code",
   "execution_count": null,
   "id": "1e27816c",
   "metadata": {
    "execution": {
     "iopub.execute_input": "2021-10-15T15:47:39.481287Z",
     "iopub.status.busy": "2021-10-15T15:47:39.480764Z",
     "iopub.status.idle": "2021-10-15T15:47:39.999470Z",
     "shell.execute_reply": "2021-10-15T15:47:39.998743Z",
     "shell.execute_reply.started": "2021-10-15T15:47:39.481250Z"
    },
    "papermill": {
     "duration": null,
     "end_time": null,
     "exception": null,
     "start_time": null,
     "status": "pending"
    },
    "tags": []
   },
   "outputs": [],
   "source": [
    "def plot_learning_curves(history, arr):\n",
    "    fig, ax = plt.subplots(1, 2, figsize=(20, 5))\n",
    "    for idx in range(2):\n",
    "        ax[idx].plot(history.history[arr[idx][0]])\n",
    "        ax[idx].plot(history.history[arr[idx][1]])\n",
    "        ax[idx].legend([arr[idx][0], arr[idx][1]],fontsize=18)\n",
    "        ax[idx].set_xlabel('epochs ',fontsize=16)\n",
    "        ax[idx].set_title(arr[idx][0] + ' and ' + arr[idx][1],fontsize=16)\n",
    "\n",
    "plot_learning_curves(history, [['loss', 'val_loss'],['accuracy', 'val_accuracy']])\n",
    "\n",
    "#the baseline model shows after trained with 5 epochs, the accuracy is 95%, but overfitting may happens after \n",
    "#traine with 2 epochs, the val_accuracy and val_loss became unstable after 2 epochs"
   ]
  },
  {
   "cell_type": "markdown",
   "id": "1a63a8e8",
   "metadata": {
    "papermill": {
     "duration": null,
     "end_time": null,
     "exception": null,
     "start_time": null,
     "status": "pending"
    },
    "tags": []
   },
   "source": [
    "# Complete model"
   ]
  },
  {
   "cell_type": "code",
   "execution_count": null,
   "id": "8c44f7c5",
   "metadata": {
    "execution": {
     "iopub.execute_input": "2021-10-15T15:47:45.011036Z",
     "iopub.status.busy": "2021-10-15T15:47:45.010207Z",
     "iopub.status.idle": "2021-10-15T15:47:45.278603Z",
     "shell.execute_reply": "2021-10-15T15:47:45.277913Z",
     "shell.execute_reply.started": "2021-10-15T15:47:45.010989Z"
    },
    "papermill": {
     "duration": null,
     "end_time": null,
     "exception": null,
     "start_time": null,
     "status": "pending"
    },
    "tags": []
   },
   "outputs": [],
   "source": [
    "#Callback functions EarlyStopping, and ReduceLROnPlateau added\n",
    "#Introducing more layers to imporve accuracy\n",
    "#Dropout functions to prevent overfitting problem\n",
    "\n",
    "early_stop = EarlyStopping(monitor='val_loss',patience=5,min_delta=0.0000001,restore_best_weights=True)\n",
    "\n",
    "reduce_lr = ReduceLROnPlateau(monitor = 'val_loss', factor = 0.2, verbose = 1, patience = 5, min_lr = 0.001)\n",
    "    \n",
    "model = Sequential()\n",
    "model.add(Embedding(input_dim=embedding_matrix.shape[0], output_dim=embedding_matrix.shape[1], weights = [embedding_matrix], input_length=length_long_sentence))\n",
    "model.add(Bidirectional(LSTM(length_long_sentence, return_sequences = True, recurrent_dropout=0.2)))\n",
    "model.add(GlobalMaxPool1D()) #used for flatterning\n",
    "model.add(BatchNormalization()) #standardizing the value, and speed up the training process\n",
    "model.add(Dropout(0.5))\n",
    "model.add(Dense(length_long_sentence, activation = \"relu\"))\n",
    "model.add(Dropout(0.5))\n",
    "model.add(Dense(length_long_sentence, activation = \"relu\"))\n",
    "model.add(Dropout(0.5))\n",
    "model.add(Dense(1, activation = 'sigmoid'))\n",
    "model.compile(optimizer='adam', loss='binary_crossentropy', metrics=['accuracy'])"
   ]
  },
  {
   "cell_type": "code",
   "execution_count": null,
   "id": "aab196e7",
   "metadata": {
    "execution": {
     "iopub.execute_input": "2021-10-15T15:47:47.818287Z",
     "iopub.status.busy": "2021-10-15T15:47:47.817722Z",
     "iopub.status.idle": "2021-10-15T15:53:13.918016Z",
     "shell.execute_reply": "2021-10-15T15:53:13.917358Z",
     "shell.execute_reply.started": "2021-10-15T15:47:47.818251Z"
    },
    "papermill": {
     "duration": null,
     "end_time": null,
     "exception": null,
     "start_time": null,
     "status": "pending"
    },
    "tags": []
   },
   "outputs": [],
   "source": [
    "X_train, X_test, y_train, y_test = train_test_split(padded, targets, test_size=0.25, random_state = 42)\n",
    "history = model.fit(X_train, y_train, epochs = 20, batch_size = 32, validation_data = (X_test, y_test),verbose = 2, callbacks=[early_stop, reduce_lr])"
   ]
  },
  {
   "cell_type": "code",
   "execution_count": null,
   "id": "56b44af5",
   "metadata": {
    "execution": {
     "iopub.execute_input": "2021-10-15T15:53:53.775907Z",
     "iopub.status.busy": "2021-10-15T15:53:53.775647Z",
     "iopub.status.idle": "2021-10-15T15:53:54.194801Z",
     "shell.execute_reply": "2021-10-15T15:53:54.194105Z",
     "shell.execute_reply.started": "2021-10-15T15:53:53.775879Z"
    },
    "papermill": {
     "duration": null,
     "end_time": null,
     "exception": null,
     "start_time": null,
     "status": "pending"
    },
    "tags": []
   },
   "outputs": [],
   "source": [
    "def plot_learning_curves(history, arr):\n",
    "    fig, ax = plt.subplots(1, 2, figsize=(20, 5))\n",
    "    for idx in range(2):\n",
    "        ax[idx].plot(history.history[arr[idx][0]])\n",
    "        ax[idx].plot(history.history[arr[idx][1]])\n",
    "        ax[idx].legend([arr[idx][0], arr[idx][1]],fontsize=18)\n",
    "        ax[idx].set_xlabel('epochs ',fontsize=16)\n",
    "        ax[idx].set_title(arr[idx][0] + ' and ' + arr[idx][1],fontsize=16)\n",
    "\n",
    "plot_learning_curves(history, [['loss', 'val_loss'],['accuracy', 'val_accuracy']])\n",
    "#after 4 epochs the val_loss gone up"
   ]
  },
  {
   "cell_type": "code",
   "execution_count": null,
   "id": "bee4ec98",
   "metadata": {
    "execution": {
     "iopub.execute_input": "2021-10-15T15:54:04.471561Z",
     "iopub.status.busy": "2021-10-15T15:54:04.471296Z",
     "iopub.status.idle": "2021-10-15T15:54:05.535830Z",
     "shell.execute_reply": "2021-10-15T15:54:05.535110Z",
     "shell.execute_reply.started": "2021-10-15T15:54:04.471532Z"
    },
    "papermill": {
     "duration": null,
     "end_time": null,
     "exception": null,
     "start_time": null,
     "status": "pending"
    },
    "tags": []
   },
   "outputs": [],
   "source": [
    "from sklearn.metrics import classification_report\n",
    "\n",
    "y_preds = (model.predict(X_test) > 0.5).astype(\"int32\")\n",
    "print(classification_report(y_test, y_preds))"
   ]
  },
  {
   "cell_type": "markdown",
   "id": "99df48be",
   "metadata": {
    "papermill": {
     "duration": null,
     "end_time": null,
     "exception": null,
     "start_time": null,
     "status": "pending"
    },
    "tags": []
   },
   "source": [
    "# Classical machine leanring models"
   ]
  },
  {
   "cell_type": "code",
   "execution_count": null,
   "id": "ad0a5c88",
   "metadata": {
    "execution": {
     "iopub.execute_input": "2021-10-15T15:43:37.671698Z",
     "iopub.status.busy": "2021-10-15T15:43:37.671362Z",
     "iopub.status.idle": "2021-10-15T15:43:37.697183Z",
     "shell.execute_reply": "2021-10-15T15:43:37.696298Z",
     "shell.execute_reply.started": "2021-10-15T15:43:37.671660Z"
    },
    "papermill": {
     "duration": null,
     "end_time": null,
     "exception": null,
     "start_time": null,
     "status": "pending"
    },
    "tags": []
   },
   "outputs": [],
   "source": [
    "#compare the rnn model with one of the classocal machine learning models - naive_bayes\n",
    "#based on the metrics F1, since the submissions are evaluated using F1 between the predicted and expected answers.\n",
    "\n",
    "from sklearn.naive_bayes import MultinomialNB\n",
    "X_train, X_test, y_train, y_test = train_test_split(padded, targets, test_size=0.25, random_state = 42)\n",
    "\n",
    "nb = MultinomialNB()\n",
    "nb.fit(X_train, y_train)\n",
    "\n",
    "y_pred_class = nb.predict(X_test)\n",
    "y_pred_prob = nb.predict_proba(X_test)[:, 1]\n",
    "\n",
    "from sklearn import metrics\n",
    "print(metrics.accuracy_score(y_test, y_pred_class))\n",
    "print(metrics.confusion_matrix(y_test, y_pred_class))\n",
    "print(classification_report(y_test, y_pred_class))\n",
    "\n",
    "#The navie bayes is performing badly compare to the deep learning model, it could due to the GloVe embedding used\n",
    "#when preparing the train and test data, CountVectorizer from sklearn library does the job better in classical machine learning models"
   ]
  },
  {
   "cell_type": "markdown",
   "id": "1f6e525b",
   "metadata": {
    "papermill": {
     "duration": null,
     "end_time": null,
     "exception": null,
     "start_time": null,
     "status": "pending"
    },
    "tags": []
   },
   "source": [
    "# Create Submission"
   ]
  },
  {
   "cell_type": "code",
   "execution_count": null,
   "id": "19929a26",
   "metadata": {
    "execution": {
     "iopub.execute_input": "2021-10-15T15:54:15.766730Z",
     "iopub.status.busy": "2021-10-15T15:54:15.766467Z",
     "iopub.status.idle": "2021-10-15T15:54:16.031800Z",
     "shell.execute_reply": "2021-10-15T15:54:16.031042Z",
     "shell.execute_reply.started": "2021-10-15T15:54:15.766704Z"
    },
    "papermill": {
     "duration": null,
     "end_time": null,
     "exception": null,
     "start_time": null,
     "status": "pending"
    },
    "tags": []
   },
   "outputs": [],
   "source": [
    "submission = pd.read_csv('../input/nlp-getting-started/sample_submission.csv')\n",
    "test = pd.read_csv('../input/nlp-getting-started/test.csv')\n",
    "\n",
    "test['text_clean'] = test['text'].apply(preprocess_data)\n",
    "texts = test['text_clean']\n",
    "\n",
    "tokenizer = Tokenizer(oov_token='<OOV>')\n",
    "tokenizer.fit_on_texts(texts)\n",
    "vocab_length = len(tokenizer.word_index) + 1\n",
    "sequences = tokenizer.texts_to_sequences(texts)\n",
    "padded_test = pad_sequences(sequences, padding='post')"
   ]
  },
  {
   "cell_type": "code",
   "execution_count": null,
   "id": "b9762341",
   "metadata": {
    "execution": {
     "iopub.execute_input": "2021-10-15T15:55:09.613548Z",
     "iopub.status.busy": "2021-10-15T15:55:09.612843Z",
     "iopub.status.idle": "2021-10-15T15:55:10.730338Z",
     "shell.execute_reply": "2021-10-15T15:55:10.729608Z",
     "shell.execute_reply.started": "2021-10-15T15:55:09.613508Z"
    },
    "papermill": {
     "duration": null,
     "end_time": null,
     "exception": null,
     "start_time": null,
     "status": "pending"
    },
    "tags": []
   },
   "outputs": [],
   "source": [
    "y_preds = (model.predict(padded_test) > 0.5).astype(\"int32\")\n",
    "sub=pd.DataFrame({'id':submission['id'].values.tolist(),'target':y_preds.reshape(3263)})\n",
    "sub.to_csv('submission_update.csv',index=False)"
   ]
  },
  {
   "cell_type": "markdown",
   "id": "cbbfb4f6",
   "metadata": {
    "papermill": {
     "duration": null,
     "end_time": null,
     "exception": null,
     "start_time": null,
     "status": "pending"
    },
    "tags": []
   },
   "source": []
  }
 ],
 "metadata": {
  "kernelspec": {
   "display_name": "Python 3",
   "language": "python",
   "name": "python3"
  },
  "language_info": {
   "codemirror_mode": {
    "name": "ipython",
    "version": 3
   },
   "file_extension": ".py",
   "mimetype": "text/x-python",
   "name": "python",
   "nbconvert_exporter": "python",
   "pygments_lexer": "ipython3",
   "version": "3.6.4"
  },
  "papermill": {
   "default_parameters": {},
   "duration": null,
   "end_time": null,
   "environment_variables": {},
   "exception": null,
   "input_path": "__notebook__.ipynb",
   "output_path": "__notebook__.ipynb",
   "parameters": {},
   "start_time": "2021-10-15T15:59:31.055681",
   "version": "2.3.3"
  }
 },
 "nbformat": 4,
 "nbformat_minor": 5
}